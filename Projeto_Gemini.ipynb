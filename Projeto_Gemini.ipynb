{
  "nbformat": 4,
  "nbformat_minor": 0,
  "metadata": {
    "colab": {
      "provenance": [],
      "authorship_tag": "ABX9TyMajIG3hyrzsraTiFs6xPcC",
      "include_colab_link": true
    },
    "kernelspec": {
      "name": "python3",
      "display_name": "Python 3"
    },
    "language_info": {
      "name": "python"
    }
  },
  "cells": [
    {
      "cell_type": "markdown",
      "metadata": {
        "id": "view-in-github",
        "colab_type": "text"
      },
      "source": [
        "<a href=\"https://colab.research.google.com/github/Paulovab/Projeto_Gemini/blob/main/Projeto_Gemini.ipynb\" target=\"_parent\"><img src=\"https://colab.research.google.com/assets/colab-badge.svg\" alt=\"Open In Colab\"/></a>"
      ]
    },
    {
      "cell_type": "code",
      "execution_count": 67,
      "metadata": {
        "id": "Y1gyrAi-_Y7j"
      },
      "outputs": [],
      "source": [
        "#Instalando o SDK do Google\n",
        "!pip install -q -U google-generativeai"
      ]
    },
    {
      "cell_type": "code",
      "source": [
        "#Configurações iniciais\n",
        "import google.generativeai as genai\n",
        "import requests\n",
        "import pathlib\n",
        "import textwrap\n",
        "\n",
        "from IPython.display import display\n",
        "from IPython.display import Markdown\n",
        "\n",
        "\n",
        "GOOGLE_API_KEY=\"API_KEY\"\n",
        "genai.configure(api_key=GOOGLE_API_KEY)"
      ],
      "metadata": {
        "id": "xvNyrMNn_mJx"
      },
      "execution_count": 68,
      "outputs": []
    },
    {
      "cell_type": "code",
      "source": [
        "#Configurações do modelo\n",
        "generation_config = {\n",
        "  \"candidate_count\": 1,\n",
        "  \"temperature\": 0.8,\n",
        "}"
      ],
      "metadata": {
        "id": "VraegBcoFEc8"
      },
      "execution_count": 69,
      "outputs": []
    },
    {
      "cell_type": "code",
      "source": [
        "#Configurações do modelo\n",
        "safety_settings={\n",
        "    'HATE': 'BLOCK_NONE',\n",
        "    'HARASSMENT': 'BLOCK_NONE',\n",
        "    'SEXUAL' : 'BLOCK_NONE',\n",
        "    'DANGEROUS' : 'BLOCK_NONE'\n",
        "    }"
      ],
      "metadata": {
        "id": "pyTIV3h7FHTF"
      },
      "execution_count": 70,
      "outputs": []
    },
    {
      "cell_type": "code",
      "source": [
        "#Definição do modelo\n",
        "model = genai.GenerativeModel(model_name='gemini-1.0-pro',\n",
        "                                  generation_config=generation_config,\n",
        "                                  safety_settings=safety_settings,)"
      ],
      "metadata": {
        "id": "3TJpqDSEFKYa"
      },
      "execution_count": 71,
      "outputs": []
    },
    {
      "cell_type": "code",
      "source": [
        "#Url do arquivo JSON com as mensagens que vamos analisar\n",
        "url = 'https://raw.githubusercontent.com/Paulovab/Projeto_Gemini/main/mensg_zap.json'\n",
        "# faço a requisição e armazeno em uma variável chamada resposta\n",
        "resposta = requests.get(url)\n",
        "# transforma a resposta em um JSON\n",
        "data = resposta.json()\n",
        "# exibindo as informações com o comando print (lembrem-se do Hello world)\n",
        "print(data)\n"
      ],
      "metadata": {
        "id": "lSlvc3WG_4wP",
        "colab": {
          "base_uri": "https://localhost:8080/"
        },
        "outputId": "d6d57b8f-cddb-4698-940f-08dc8ae243b7"
      },
      "execution_count": 72,
      "outputs": [
        {
          "output_type": "stream",
          "name": "stdout",
          "text": [
            "[{'Mensg': 'Bom dia, tenho um titulo em atraso e gostaria de negocia-lo.'}, {'Mensg': 'Gostaria de fazer uma compra de um vidro laminado.'}, {'Mensg': 'Vcs tem o vidro refletivo de 8mm?'}, {'Mensg': 'Gostaria de saber o preço de um vidro refletivo verde 10mm?'}, {'Mensg': 'Quero fazer parte do quadro de funcionarios da empresa, para de um contato da setor responsavel.'}, {'Mensg': 'Quero comprar um vidro incolor 8mm de 1000x1000.'}, {'Mensg': 'Boa tarde qual pix posso fazer o pagamento de um titulo?'}, {'Mensg': 'Bom dia, quero ser atendido por um vendedor.'}, {'Mensg': 'Bom dia.'}, {'Mensg': 'Bom dia, gostaria de falar com o João.'}, {'Mensg': 'Bom dia, sou representante de uma empresa de publicidade e gostaria de falar com o responsavel pelo marketing.'}, {'Mensg': 'Bom dia, meu pedido 665555 deveria ter ficado pronto na data de ontem. Preciso deste pedido com urgencia.'}, {'Mensg': 'Boa tarde, estou desde ontem aguadando um retorno da minha mensagem'}, {'Mensg': 'Boa tarde, meu titulo foi protestado, preciso falar no financeiro urgente.'}]\n"
          ]
        }
      ]
    },
    {
      "cell_type": "code",
      "source": [
        "#Armazenamos nossa solicitação em uma variavel prompty\n",
        "prompty = f\"Separe as mensagem por setor(Comercial, Financeiro, Marketing, RH, etc) e em forma de ranking de prioridade de atendimento(Alta, Media e Baixa) de cada setor separadamente\"\n",
        "#prompty +=\"Importante, cada setor precisa ter as tres prioridades, mesmo que não tenha mensagens em alguma delas.\"\n",
        "prompty +=\"Para o setor comercial, quanto mais caracteristicas do produto, maior a prioridade. Para o setor Financeiro, priorizar pagamentos.\"\n",
        "prompty +=\"Para os outros setores, defina a prioridade.\"\n",
        "prompty +=\"Ex: Comercial - Prioridade alta, media e baixa.\"\n",
        "\n",
        "# For para armazenar as mensagens do JSON\n",
        "for m in data:\n",
        "  prompty = prompty + m['Mensg']"
      ],
      "metadata": {
        "id": "3UF1zLyVBjT6"
      },
      "execution_count": 73,
      "outputs": []
    },
    {
      "cell_type": "code",
      "source": [
        "#Print da variavel que armazena nossa requisição final\n",
        "print(prompty)"
      ],
      "metadata": {
        "colab": {
          "base_uri": "https://localhost:8080/"
        },
        "id": "6w0191hIbuip",
        "outputId": "c3c0d806-a701-4a54-f291-13f61e78fb1e"
      },
      "execution_count": 74,
      "outputs": [
        {
          "output_type": "stream",
          "name": "stdout",
          "text": [
            "Separe as mensagem por setor(Comercial, Financeiro, Marketing, RH, etc) e em forma de ranking de prioridade de atendimento(Alta, Media e Baixa) de cada setor separadamentePara o setor comercial, quanto mais caracteristicas do produto, maior a prioridade. Para o setor Financeiro, priorizar pagamentos.Para os outros setores, defina a prioridade.Ex: Comercial - Prioridade alta, media e baixa.Bom dia, tenho um titulo em atraso e gostaria de negocia-lo.Gostaria de fazer uma compra de um vidro laminado.Vcs tem o vidro refletivo de 8mm?Gostaria de saber o preço de um vidro refletivo verde 10mm?Quero fazer parte do quadro de funcionarios da empresa, para de um contato da setor responsavel.Quero comprar um vidro incolor 8mm de 1000x1000.Boa tarde qual pix posso fazer o pagamento de um titulo?Bom dia, quero ser atendido por um vendedor.Bom dia.Bom dia, gostaria de falar com o João.Bom dia, sou representante de uma empresa de publicidade e gostaria de falar com o responsavel pelo marketing.Bom dia, meu pedido 665555 deveria ter ficado pronto na data de ontem. Preciso deste pedido com urgencia.Boa tarde, estou desde ontem aguadando um retorno da minha mensagemBoa tarde, meu titulo foi protestado, preciso falar no financeiro urgente.\n"
          ]
        }
      ]
    },
    {
      "cell_type": "code",
      "source": [
        "#Resposta da nossa requisição\n",
        "response = model.generate_content(prompty)\n",
        "#Apresentando a resposta da requisição na tela de forma organizada\n",
        "to_markdown(response.text)"
      ],
      "metadata": {
        "id": "UhCLLOvTFctX",
        "colab": {
          "base_uri": "https://localhost:8080/",
          "height": 978
        },
        "outputId": "649fa4f2-6f23-41b4-b22d-c24736a788ca"
      },
      "execution_count": 75,
      "outputs": [
        {
          "output_type": "execute_result",
          "data": {
            "text/plain": [
              "<IPython.core.display.Markdown object>"
            ],
            "text/markdown": "> **Comercial**\n> \n> * Prioridade Alta\n>     * Gostaria de fazer uma compra de um vidro laminado.\n>     * Vcs tem o vidro refletivo de 8mm?\n>     * Gostaria de saber o preço de um vidro refletivo verde 10mm?\n>     * Quero comprar um vidro incolor 8mm de 1000x1000.\n> * Prioridade Média\n>     * Bom dia, quero ser atendido por um vendedor.\n>     * Bom dia, gostaria de falar com o João.\n> * Prioridade Baixa\n>     * Bom dia.\n>     * Boa tarde, estou desde ontem aguardando um retorno da minha mensagem.\n> \n> **Financeiro**\n> \n> * Prioridade Alta\n>     * Bom dia, tenho um titulo em atraso e gostaria de negocia-lo.\n>     * Boa tarde qual pix posso fazer o pagamento de um titulo?\n>     * Boa tarde, meu titulo foi protestado, preciso falar no financeiro urgente.\n> * Prioridade Média\n>     * Nenhuma mensagem.\n> * Prioridade Baixa\n>     * Nenhuma mensagem.\n> \n> **Marketing**\n> \n> * Prioridade Alta\n>     * Bom dia, sou representante de uma empresa de publicidade e gostaria de falar com o responsável pelo marketing.\n> * Prioridade Média\n>     * Nenhuma mensagem.\n> * Prioridade Baixa\n>     * Nenhuma mensagem.\n> \n> **RH**\n> \n> * Prioridade Alta\n>     * Quero fazer parte do quadro de funcionários da empresa, para de um contato da setor responsável.\n> * Prioridade Média\n>     * Nenhuma mensagem.\n> * Prioridade Baixa\n>     * Nenhuma mensagem.\n> \n> **Outros**\n> \n> * Prioridade Alta\n>     * Bom dia, meu pedido 665555 deveria ter ficado pronto na data de ontem. Preciso deste pedido com urgência.\n> * Prioridade Média\n>     * Nenhuma mensagem.\n> * Prioridade Baixa\n>     * Nenhuma mensagem."
          },
          "metadata": {},
          "execution_count": 75
        }
      ]
    }
  ]
}